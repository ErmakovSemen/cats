{
 "cells": [
  {
   "cell_type": "code",
   "execution_count": 143,
   "metadata": {},
   "outputs": [],
   "source": [
    "import numpy as np\n",
    "import re\n",
    "import scipy.spatial.distance\n",
    "def cut(L,x):\n",
    "    i=0\n",
    "    while i < len(L):\n",
    "        if L[i]==x:\n",
    "            L.pop(i)\n",
    "        i+=1\n",
    "    return L\n",
    "\n",
    "def S_add(L,LL):\n",
    "    for x in L:\n",
    "        LL.add(x)\n",
    "    return LL\n"
   ]
  },
  {
   "cell_type": "code",
   "execution_count": 144,
   "metadata": {},
   "outputs": [],
   "source": [
    "LL=set()\n",
    "n=0\n",
    "Text=[]\n",
    "D = {}"
   ]
  },
  {
   "cell_type": "code",
   "execution_count": 145,
   "metadata": {},
   "outputs": [],
   "source": [
    "\n",
    "with open('Cats_code.txt','r') as f:\n",
    "    for line in f:\n",
    "        n+=1\n",
    "        S = line\n",
    "        S = S.lower()\n",
    "\n",
    "        L = re.split('[^a-z]', S)\n",
    "        L = cut(L,'')\n",
    "        Text.append(L)\n",
    "        LL = S_add(L,LL)\n",
    "LL.remove('')\n",
    "       \n"
   ]
  },
  {
   "cell_type": "code",
   "execution_count": 146,
   "metadata": {},
   "outputs": [
    {
     "data": {
      "text/plain": [
       "254"
      ]
     },
     "execution_count": 146,
     "metadata": {},
     "output_type": "execute_result"
    }
   ],
   "source": [
    "d = len(LL)\n",
    "d"
   ]
  },
  {
   "cell_type": "code",
   "execution_count": 147,
   "metadata": {},
   "outputs": [],
   "source": [
    "\n",
    "for i in range(21):\n",
    "    Text[i].pop()\n"
   ]
  },
  {
   "cell_type": "code",
   "execution_count": 148,
   "metadata": {},
   "outputs": [],
   "source": [
    "x = np.arange(0,d)\n",
    "i=0"
   ]
  },
  {
   "cell_type": "code",
   "execution_count": 149,
   "metadata": {},
   "outputs": [],
   "source": [
    "for word in LL:\n",
    "    D[i]=word\n",
    "    i+=1"
   ]
  },
  {
   "cell_type": "code",
   "execution_count": 150,
   "metadata": {},
   "outputs": [],
   "source": [
    "A=np.zeros((n, d))"
   ]
  },
  {
   "cell_type": "code",
   "execution_count": 151,
   "metadata": {},
   "outputs": [],
   "source": [
    "for i in range(n):\n",
    "    for j in range(d):\n",
    "        \n",
    "        A[i][j] = Text[i].count(D[j])\n",
    "Depend=[]"
   ]
  },
  {
   "cell_type": "code",
   "execution_count": 154,
   "metadata": {},
   "outputs": [],
   "source": [
    "for i in range(1,n):\n",
    "    Depend.append([scipy.spatial.distance.cosine(A[0],A[i]),i])\n",
    "    "
   ]
  },
  {
   "cell_type": "code",
   "execution_count": 155,
   "metadata": {},
   "outputs": [
    {
     "data": {
      "text/plain": [
       "[[0.9527544408738466, 1],\n",
       " [0.8644738145642124, 2],\n",
       " [0.8951715163278082, 3],\n",
       " [0.7770887149698589, 4],\n",
       " [0.9402385695332803, 5],\n",
       " [0.7327387580875756, 6],\n",
       " [0.9258750683338899, 7],\n",
       " [0.8842724875284311, 8],\n",
       " [0.9055088817476932, 9],\n",
       " [0.8328165362273942, 10],\n",
       " [0.8804771390665607, 11],\n",
       " [0.8396432548525454, 12],\n",
       " [0.8703592552895671, 13],\n",
       " [0.8740118423302576, 14],\n",
       " [0.9442721787424647, 15],\n",
       " [0.8406361854220809, 16],\n",
       " [0.956644501523794, 17],\n",
       " [0.9442721787424647, 18],\n",
       " [0.8885443574849294, 19],\n",
       " [0.8427572744917122, 20],\n",
       " [0.8250364469440588, 21]]"
      ]
     },
     "execution_count": 155,
     "metadata": {},
     "output_type": "execute_result"
    }
   ],
   "source": [
    "Depend"
   ]
  },
  {
   "cell_type": "code",
   "execution_count": 156,
   "metadata": {},
   "outputs": [],
   "source": [
    "Depend.sort()"
   ]
  },
  {
   "cell_type": "code",
   "execution_count": 157,
   "metadata": {},
   "outputs": [
    {
     "data": {
      "text/plain": [
       "[[0.7327387580875756, 6],\n",
       " [0.7770887149698589, 4],\n",
       " [0.8250364469440588, 21],\n",
       " [0.8328165362273942, 10],\n",
       " [0.8396432548525454, 12],\n",
       " [0.8406361854220809, 16],\n",
       " [0.8427572744917122, 20],\n",
       " [0.8644738145642124, 2],\n",
       " [0.8703592552895671, 13],\n",
       " [0.8740118423302576, 14],\n",
       " [0.8804771390665607, 11],\n",
       " [0.8842724875284311, 8],\n",
       " [0.8885443574849294, 19],\n",
       " [0.8951715163278082, 3],\n",
       " [0.9055088817476932, 9],\n",
       " [0.9258750683338899, 7],\n",
       " [0.9402385695332803, 5],\n",
       " [0.9442721787424647, 15],\n",
       " [0.9442721787424647, 18],\n",
       " [0.9527544408738466, 1],\n",
       " [0.956644501523794, 17]]"
      ]
     },
     "execution_count": 157,
     "metadata": {},
     "output_type": "execute_result"
    }
   ],
   "source": [
    "Depend"
   ]
  },
  {
   "cell_type": "code",
   "execution_count": null,
   "metadata": {},
   "outputs": [],
   "source": []
  }
 ],
 "metadata": {
  "kernelspec": {
   "display_name": "Python 3",
   "language": "python",
   "name": "python3"
  },
  "language_info": {
   "codemirror_mode": {
    "name": "ipython",
    "version": 3
   },
   "file_extension": ".py",
   "mimetype": "text/x-python",
   "name": "python",
   "nbconvert_exporter": "python",
   "pygments_lexer": "ipython3",
   "version": "3.7.6"
  }
 },
 "nbformat": 4,
 "nbformat_minor": 4
}
